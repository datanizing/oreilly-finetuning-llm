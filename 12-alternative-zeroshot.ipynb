{
 "cells": [
  {
   "cell_type": "code",
   "execution_count": null,
   "id": "16fe23e2-d14d-4284-8e16-a3ce3d8ac42b",
   "metadata": {},
   "outputs": [],
   "source": [
    "import pandas as pd\n",
    "\n",
    "df = pd.read_json(\"10000_All_Beauty.json.xz\")"
   ]
  },
  {
   "cell_type": "code",
   "execution_count": null,
   "id": "31a3b7a9-ad83-46bd-a3b6-c8aaf5099d48",
   "metadata": {},
   "outputs": [],
   "source": [
    "from transformers import pipeline\n",
    "zeroshot_classifier = pipeline(\"zero-shot-classification\", \n",
    "                               model=\"MoritzLaurer/ModernBERT-large-zeroshot-v2.0\", \n",
    "                               device_map=\"auto\")"
   ]
  },
  {
   "cell_type": "code",
   "execution_count": null,
   "id": "18931713-a850-4483-b398-38472e8675ea",
   "metadata": {},
   "outputs": [],
   "source": [
    "hypothesis_template = \"This text has a {} sentiment\"\n",
    "classes = [\"positive\", \"negative\"]"
   ]
  },
  {
   "cell_type": "code",
   "execution_count": null,
   "id": "12e6c990-a439-4bc1-bf7b-1b6b5bdaf5f9",
   "metadata": {},
   "outputs": [],
   "source": [
    "zeroshot_classifier(df.iloc[0][\"text\"], classes, hypothesis_template=hypothesis_template, multi_label=False)"
   ]
  },
  {
   "cell_type": "code",
   "execution_count": null,
   "id": "d98bda40-a0cc-48d5-8378-8869b6b51ff7",
   "metadata": {},
   "outputs": [],
   "source": [
    "from tqdm.auto import tqdm\n",
    "res = []\n",
    "for i, r in tqdm(df.iterrows(), total=len(df)):\n",
    "    o = zeroshot_classifier(r[\"text\"], classes, hypothesis_template=hypothesis_template, multi_label=False)\n",
    "    res.append(o)"
   ]
  },
  {
   "cell_type": "markdown",
   "id": "d1df64bd-396c-45b4-a7ae-f7215a7f553d",
   "metadata": {},
   "source": [
    "It is possible to speed that up by factors when passing a list object:"
   ]
  },
  {
   "cell_type": "code",
   "execution_count": null,
   "id": "014aa76c-dc09-428f-b328-35be06e2b2c3",
   "metadata": {},
   "outputs": [],
   "source": [
    "%%time\n",
    "zeroshot_preds = zeroshot_classifier(df[\"text\"].values.tolist(), \n",
    "                                     batch_size=32, candidate_labels=classes,\n",
    "                                     hypothesis_template=hypothesis_template, \n",
    "                                     multi_label=False)"
   ]
  },
  {
   "cell_type": "code",
   "execution_count": null,
   "id": "f43d5a08-ef1c-4251-a592-64fba3398815",
   "metadata": {},
   "outputs": [],
   "source": [
    "zeroshot_preds[0:5]"
   ]
  },
  {
   "cell_type": "code",
   "execution_count": null,
   "id": "dae55ce7-6374-4088-9451-afc15b489b6e",
   "metadata": {},
   "outputs": [],
   "source": [
    "rdf = pd.DataFrame([{ r[\"labels\"][0]: r[\"scores\"][0], \n",
    "                      r[\"labels\"][1]: r[\"scores\"][1] } for r in zeroshot_preds])"
   ]
  },
  {
   "cell_type": "code",
   "execution_count": null,
   "id": "71a1eac2-fa11-4d6e-bf99-0c4e2fd24d44",
   "metadata": {},
   "outputs": [],
   "source": [
    "tdf = pd.concat([df, rdf], axis=1)"
   ]
  },
  {
   "cell_type": "code",
   "execution_count": null,
   "id": "76d9f321-a180-41bc-b78c-118cf398f849",
   "metadata": {},
   "outputs": [],
   "source": [
    "tdf.sample(10, random_state=42)"
   ]
  },
  {
   "cell_type": "code",
   "execution_count": null,
   "id": "59d24d53-684f-4d2b-90f6-f0c4188ef018",
   "metadata": {},
   "outputs": [],
   "source": [
    "tdf[\"zeroshot_rating\"] = None\n",
    "for i, r in tdf.iterrows():\n",
    "    if r[\"positive\"] > 5*r[\"negative\"]:\n",
    "        tdf.at[i, \"zeroshot_rating\"] = 5\n",
    "    else:\n",
    "        tdf.at[i, \"zeroshot_rating\"] = 1        "
   ]
  },
  {
   "cell_type": "code",
   "execution_count": null,
   "id": "5c397786-0101-4627-a673-13a2d2faa409",
   "metadata": {},
   "outputs": [],
   "source": [
    "pd.set_option('display.max_colwidth', None)\n",
    "wrong = tdf[tdf[\"rating\"] != tdf[\"zeroshot_rating\"]]\n",
    "wrong"
   ]
  },
  {
   "cell_type": "code",
   "execution_count": null,
   "id": "3dfca7dd-db47-4afd-81ae-af559ea69fc1",
   "metadata": {},
   "outputs": [],
   "source": [
    "1-len(wrong)/len(df)"
   ]
  },
  {
   "cell_type": "code",
   "execution_count": null,
   "id": "057a997d-fa69-4adf-8a4a-3a1ec80fb17e",
   "metadata": {},
   "outputs": [],
   "source": []
  }
 ],
 "metadata": {
  "kernelspec": {
   "display_name": "finetuning",
   "language": "python",
   "name": "finetuning"
  },
  "language_info": {
   "codemirror_mode": {
    "name": "ipython",
    "version": 3
   },
   "file_extension": ".py",
   "mimetype": "text/x-python",
   "name": "python",
   "nbconvert_exporter": "python",
   "pygments_lexer": "ipython3",
   "version": "3.13.1"
  }
 },
 "nbformat": 4,
 "nbformat_minor": 5
}
