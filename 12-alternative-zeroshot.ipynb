{
 "cells": [
  {
   "cell_type": "code",
   "execution_count": null,
   "id": "16fe23e2-d14d-4284-8e16-a3ce3d8ac42b",
   "metadata": {},
   "outputs": [],
   "source": [
    "import pandas as pd\n",
    "\n",
    "df = pd.read_json(\"10000_All_Beauty.json.xz\")"
   ]
  },
  {
   "cell_type": "code",
   "execution_count": null,
   "id": "31a3b7a9-ad83-46bd-a3b6-c8aaf5099d48",
   "metadata": {},
   "outputs": [],
   "source": [
    "from transformers import pipeline\n",
    "zeroshot_classifier = pipeline(\"zero-shot-classification\", \n",
    "                               model=\"MoritzLaurer/ModernBERT-large-zeroshot-v2.0\", \n",
    "                               device_map=\"auto\")"
   ]
  },
  {
   "cell_type": "code",
   "execution_count": null,
   "id": "18931713-a850-4483-b398-38472e8675ea",
   "metadata": {},
   "outputs": [],
   "source": [
    "hypothesis_template = \"This text has a {} sentiment\"\n",
    "classes = [\"positive\", \"negative\"]"
   ]
  },
  {
   "cell_type": "code",
   "execution_count": null,
   "id": "12e6c990-a439-4bc1-bf7b-1b6b5bdaf5f9",
   "metadata": {},
   "outputs": [],
   "source": [
    "zeroshot_classifier(df.iloc[0][\"text\"], classes, hypothesis_template=hypothesis_template, multi_label=False)"
   ]
  },
  {
   "cell_type": "code",
   "execution_count": null,
   "id": "d98bda40-a0cc-48d5-8378-8869b6b51ff7",
   "metadata": {},
   "outputs": [],
   "source": [
    "from tqdm.auto import tqdm\n",
    "df[\"positive\"] = None\n",
    "df[\"negative\"] = None\n",
    "for i, r in tqdm(df.iterrows(), total=len(df)):\n",
    "    o = zeroshot_classifier(r[\"text\"], classes, hypothesis_template=hypothesis_template, multi_label=False)\n",
    "    df.at[i, o[\"labels\"][0]] = o[\"scores\"][0]\n",
    "    df.at[i, o[\"labels\"][1]] = o[\"scores\"][1]"
   ]
  },
  {
   "cell_type": "code",
   "execution_count": null,
   "id": "76d9f321-a180-41bc-b78c-118cf398f849",
   "metadata": {},
   "outputs": [],
   "source": [
    "df.sample(10, random_state=42)"
   ]
  },
  {
   "cell_type": "code",
   "execution_count": null,
   "id": "59d24d53-684f-4d2b-90f6-f0c4188ef018",
   "metadata": {},
   "outputs": [],
   "source": [
    "df[\"zeroshot_rating\"] = None\n",
    "for i, r in tqdm(df.iterrows(), total=len(df)):\n",
    "    if r[\"positive\"] > 5*r[\"negative\"]:\n",
    "        df.at[i, \"zeroshot_rating\"] = 5\n",
    "    else:\n",
    "        df.at[i, \"zeroshot_rating\"] = 1        "
   ]
  },
  {
   "cell_type": "code",
   "execution_count": null,
   "id": "5c397786-0101-4627-a673-13a2d2faa409",
   "metadata": {},
   "outputs": [],
   "source": [
    "wrong = df[df[\"rating\"] != df[\"zeroshot_rating\"]]\n",
    "wrong"
   ]
  },
  {
   "cell_type": "code",
   "execution_count": null,
   "id": "3dfca7dd-db47-4afd-81ae-af559ea69fc1",
   "metadata": {},
   "outputs": [],
   "source": [
    "1-len(wrong)/len(df)"
   ]
  },
  {
   "cell_type": "code",
   "execution_count": null,
   "id": "0c12f08e-0323-4d11-a5b8-fce88aeeba3d",
   "metadata": {},
   "outputs": [],
   "source": []
  },
  {
   "cell_type": "code",
   "execution_count": null,
   "id": "3aca0ad7-19f6-40ae-9817-e69358583af9",
   "metadata": {},
   "outputs": [],
   "source": [
    "# You might think that it is much faster to run this in batch mode:"
   ]
  },
  {
   "cell_type": "code",
   "execution_count": null,
   "id": "261f47df-0040-408f-80c7-28a149bfe1a5",
   "metadata": {},
   "outputs": [],
   "source": [
    "zeroshot_classifier(list(df.iloc[0:10][\"text\"]), classes, hypothesis_template=hypothesis_template, multi_label=False)"
   ]
  },
  {
   "cell_type": "code",
   "execution_count": null,
   "id": "11b7a5fd-ebfa-490f-a1e6-e0c51fa1723c",
   "metadata": {},
   "outputs": [],
   "source": [
    "# But it's not..."
   ]
  },
  {
   "cell_type": "code",
   "execution_count": null,
   "id": "06f371c9-1387-47be-9e22-4b131c978d1b",
   "metadata": {},
   "outputs": [],
   "source": [
    "from tqdm.auto import trange\n",
    "MAX = 100\n",
    "for s in trange(0, len(df), MAX):\n",
    "    o = zeroshot_classifier(list(df[s:s+MAX][\"text\"]), classes, hypothesis_template=hypothesis_template, multi_label=False)\n",
    "    #df.at[i, o[\"labels\"][0]] = o[\"scores\"][0]\n",
    "    #df.at[i, o[\"labels\"][1]] = o[\"scores\"][1]"
   ]
  },
  {
   "cell_type": "code",
   "execution_count": null,
   "id": "dae55ce7-6374-4088-9451-afc15b489b6e",
   "metadata": {},
   "outputs": [],
   "source": []
  }
 ],
 "metadata": {
  "kernelspec": {
   "display_name": "Python 3 (ipykernel)",
   "language": "python",
   "name": "python3"
  },
  "language_info": {
   "codemirror_mode": {
    "name": "ipython",
    "version": 3
   },
   "file_extension": ".py",
   "mimetype": "text/x-python",
   "name": "python",
   "nbconvert_exporter": "python",
   "pygments_lexer": "ipython3",
   "version": "3.12.3"
  }
 },
 "nbformat": 4,
 "nbformat_minor": 5
}
