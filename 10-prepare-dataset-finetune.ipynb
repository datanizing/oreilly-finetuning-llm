{
 "cells": [
  {
   "cell_type": "code",
   "execution_count": null,
   "id": "996bca0f",
   "metadata": {},
   "outputs": [],
   "source": [
    "import pandas as pd"
   ]
  },
  {
   "cell_type": "markdown",
   "id": "73a07a72",
   "metadata": {},
   "source": [
    "Dataset from https://amazon-reviews-2023.github.io/"
   ]
  },
  {
   "cell_type": "code",
   "execution_count": null,
   "id": "dd945136",
   "metadata": {},
   "outputs": [],
   "source": [
    "df = pd.read_json(\"All_Beauty.jsonl.xz\", lines=True)"
   ]
  },
  {
   "cell_type": "code",
   "execution_count": null,
   "id": "258deb1f",
   "metadata": {},
   "outputs": [],
   "source": [
    "len(df)"
   ]
  },
  {
   "cell_type": "markdown",
   "id": "6f448d52",
   "metadata": {},
   "source": [
    "Dataset is too long, select only reviews with very good and very bad rating:"
   ]
  },
  {
   "cell_type": "code",
   "execution_count": null,
   "id": "4692b0ac",
   "metadata": {},
   "outputs": [],
   "source": [
    "good = df[df[\"rating\"] == 5]"
   ]
  },
  {
   "cell_type": "code",
   "execution_count": null,
   "id": "d61b7be7",
   "metadata": {},
   "outputs": [],
   "source": [
    "len(good)"
   ]
  },
  {
   "cell_type": "code",
   "execution_count": null,
   "id": "034212c5",
   "metadata": {},
   "outputs": [],
   "source": [
    "bad = df[df[\"rating\"] == 1]"
   ]
  },
  {
   "cell_type": "code",
   "execution_count": null,
   "id": "f9980fa6",
   "metadata": {},
   "outputs": [],
   "source": [
    "len(bad)"
   ]
  },
  {
   "cell_type": "markdown",
   "id": "c06d8784",
   "metadata": {},
   "source": [
    "Select 5000 good and 5000 bad (change if you have a fast GPU)"
   ]
  },
  {
   "cell_type": "code",
   "execution_count": null,
   "id": "f9b2ab0e",
   "metadata": {},
   "outputs": [],
   "source": [
    "total = pd.concat([bad.sample(5000, random_state=42), good.sample(5000, random_state=42)])"
   ]
  },
  {
   "cell_type": "code",
   "execution_count": null,
   "id": "c6fa7651",
   "metadata": {},
   "outputs": [],
   "source": [
    "total[\"text\"] = total[\"title\"] + \"\\n\\n\" + total[\"text\"]"
   ]
  },
  {
   "cell_type": "markdown",
   "id": "40e99c9e",
   "metadata": {},
   "source": [
    "Save in a JSON file"
   ]
  },
  {
   "cell_type": "code",
   "execution_count": null,
   "id": "917a83cf",
   "metadata": {},
   "outputs": [],
   "source": [
    "total[[\"text\", \"rating\"]].to_json(\"10000_All_Beauty.json.xz\", orient=\"records\")"
   ]
  },
  {
   "cell_type": "code",
   "execution_count": null,
   "id": "d189d036",
   "metadata": {},
   "outputs": [],
   "source": []
  }
 ],
 "metadata": {
  "kernelspec": {
   "display_name": "Python 3 (ipykernel)",
   "language": "python",
   "name": "python3"
  },
  "language_info": {
   "codemirror_mode": {
    "name": "ipython",
    "version": 3
   },
   "file_extension": ".py",
   "mimetype": "text/x-python",
   "name": "python",
   "nbconvert_exporter": "python",
   "pygments_lexer": "ipython3",
   "version": "3.12.3"
  }
 },
 "nbformat": 4,
 "nbformat_minor": 5
}
